{
 "cells": [
  {
   "cell_type": "code",
   "execution_count": 208,
   "id": "bb9b3711-2a3a-40d4-bfb4-e64f1c00a7c4",
   "metadata": {},
   "outputs": [],
   "source": [
    "import pandas as pd\n",
    "import numpy as np\n",
    "import seaborn as sns\n",
    "import matplotlib.pyplot as plt"
   ]
  },
  {
   "cell_type": "code",
   "execution_count": 209,
   "id": "ebf2fddb-b707-47be-9ac7-b8cb0eed1910",
   "metadata": {},
   "outputs": [],
   "source": [
    "train_data = pd.read_csv(\"Data/train.csv\")"
   ]
  },
  {
   "cell_type": "code",
   "execution_count": 210,
   "id": "baf43e09-67ce-4838-9b67-ed94965e0d7b",
   "metadata": {},
   "outputs": [
    {
     "data": {
      "text/html": [
       "<div>\n",
       "<style scoped>\n",
       "    .dataframe tbody tr th:only-of-type {\n",
       "        vertical-align: middle;\n",
       "    }\n",
       "\n",
       "    .dataframe tbody tr th {\n",
       "        vertical-align: top;\n",
       "    }\n",
       "\n",
       "    .dataframe thead th {\n",
       "        text-align: right;\n",
       "    }\n",
       "</style>\n",
       "<table border=\"1\" class=\"dataframe\">\n",
       "  <thead>\n",
       "    <tr style=\"text-align: right;\">\n",
       "      <th></th>\n",
       "      <th>PassengerId</th>\n",
       "      <th>Survived</th>\n",
       "      <th>Pclass</th>\n",
       "      <th>Name</th>\n",
       "      <th>Sex</th>\n",
       "      <th>Age</th>\n",
       "      <th>SibSp</th>\n",
       "      <th>Parch</th>\n",
       "      <th>Ticket</th>\n",
       "      <th>Fare</th>\n",
       "      <th>Cabin</th>\n",
       "      <th>Embarked</th>\n",
       "    </tr>\n",
       "  </thead>\n",
       "  <tbody>\n",
       "    <tr>\n",
       "      <th>0</th>\n",
       "      <td>1</td>\n",
       "      <td>0</td>\n",
       "      <td>3</td>\n",
       "      <td>Braund, Mr. Owen Harris</td>\n",
       "      <td>male</td>\n",
       "      <td>22.0</td>\n",
       "      <td>1</td>\n",
       "      <td>0</td>\n",
       "      <td>A/5 21171</td>\n",
       "      <td>7.2500</td>\n",
       "      <td>NaN</td>\n",
       "      <td>S</td>\n",
       "    </tr>\n",
       "    <tr>\n",
       "      <th>1</th>\n",
       "      <td>2</td>\n",
       "      <td>1</td>\n",
       "      <td>1</td>\n",
       "      <td>Cumings, Mrs. John Bradley (Florence Briggs Th...</td>\n",
       "      <td>female</td>\n",
       "      <td>38.0</td>\n",
       "      <td>1</td>\n",
       "      <td>0</td>\n",
       "      <td>PC 17599</td>\n",
       "      <td>71.2833</td>\n",
       "      <td>C85</td>\n",
       "      <td>C</td>\n",
       "    </tr>\n",
       "    <tr>\n",
       "      <th>2</th>\n",
       "      <td>3</td>\n",
       "      <td>1</td>\n",
       "      <td>3</td>\n",
       "      <td>Heikkinen, Miss. Laina</td>\n",
       "      <td>female</td>\n",
       "      <td>26.0</td>\n",
       "      <td>0</td>\n",
       "      <td>0</td>\n",
       "      <td>STON/O2. 3101282</td>\n",
       "      <td>7.9250</td>\n",
       "      <td>NaN</td>\n",
       "      <td>S</td>\n",
       "    </tr>\n",
       "    <tr>\n",
       "      <th>3</th>\n",
       "      <td>4</td>\n",
       "      <td>1</td>\n",
       "      <td>1</td>\n",
       "      <td>Futrelle, Mrs. Jacques Heath (Lily May Peel)</td>\n",
       "      <td>female</td>\n",
       "      <td>35.0</td>\n",
       "      <td>1</td>\n",
       "      <td>0</td>\n",
       "      <td>113803</td>\n",
       "      <td>53.1000</td>\n",
       "      <td>C123</td>\n",
       "      <td>S</td>\n",
       "    </tr>\n",
       "    <tr>\n",
       "      <th>4</th>\n",
       "      <td>5</td>\n",
       "      <td>0</td>\n",
       "      <td>3</td>\n",
       "      <td>Allen, Mr. William Henry</td>\n",
       "      <td>male</td>\n",
       "      <td>35.0</td>\n",
       "      <td>0</td>\n",
       "      <td>0</td>\n",
       "      <td>373450</td>\n",
       "      <td>8.0500</td>\n",
       "      <td>NaN</td>\n",
       "      <td>S</td>\n",
       "    </tr>\n",
       "    <tr>\n",
       "      <th>...</th>\n",
       "      <td>...</td>\n",
       "      <td>...</td>\n",
       "      <td>...</td>\n",
       "      <td>...</td>\n",
       "      <td>...</td>\n",
       "      <td>...</td>\n",
       "      <td>...</td>\n",
       "      <td>...</td>\n",
       "      <td>...</td>\n",
       "      <td>...</td>\n",
       "      <td>...</td>\n",
       "      <td>...</td>\n",
       "    </tr>\n",
       "    <tr>\n",
       "      <th>886</th>\n",
       "      <td>887</td>\n",
       "      <td>0</td>\n",
       "      <td>2</td>\n",
       "      <td>Montvila, Rev. Juozas</td>\n",
       "      <td>male</td>\n",
       "      <td>27.0</td>\n",
       "      <td>0</td>\n",
       "      <td>0</td>\n",
       "      <td>211536</td>\n",
       "      <td>13.0000</td>\n",
       "      <td>NaN</td>\n",
       "      <td>S</td>\n",
       "    </tr>\n",
       "    <tr>\n",
       "      <th>887</th>\n",
       "      <td>888</td>\n",
       "      <td>1</td>\n",
       "      <td>1</td>\n",
       "      <td>Graham, Miss. Margaret Edith</td>\n",
       "      <td>female</td>\n",
       "      <td>19.0</td>\n",
       "      <td>0</td>\n",
       "      <td>0</td>\n",
       "      <td>112053</td>\n",
       "      <td>30.0000</td>\n",
       "      <td>B42</td>\n",
       "      <td>S</td>\n",
       "    </tr>\n",
       "    <tr>\n",
       "      <th>888</th>\n",
       "      <td>889</td>\n",
       "      <td>0</td>\n",
       "      <td>3</td>\n",
       "      <td>Johnston, Miss. Catherine Helen \"Carrie\"</td>\n",
       "      <td>female</td>\n",
       "      <td>NaN</td>\n",
       "      <td>1</td>\n",
       "      <td>2</td>\n",
       "      <td>W./C. 6607</td>\n",
       "      <td>23.4500</td>\n",
       "      <td>NaN</td>\n",
       "      <td>S</td>\n",
       "    </tr>\n",
       "    <tr>\n",
       "      <th>889</th>\n",
       "      <td>890</td>\n",
       "      <td>1</td>\n",
       "      <td>1</td>\n",
       "      <td>Behr, Mr. Karl Howell</td>\n",
       "      <td>male</td>\n",
       "      <td>26.0</td>\n",
       "      <td>0</td>\n",
       "      <td>0</td>\n",
       "      <td>111369</td>\n",
       "      <td>30.0000</td>\n",
       "      <td>C148</td>\n",
       "      <td>C</td>\n",
       "    </tr>\n",
       "    <tr>\n",
       "      <th>890</th>\n",
       "      <td>891</td>\n",
       "      <td>0</td>\n",
       "      <td>3</td>\n",
       "      <td>Dooley, Mr. Patrick</td>\n",
       "      <td>male</td>\n",
       "      <td>32.0</td>\n",
       "      <td>0</td>\n",
       "      <td>0</td>\n",
       "      <td>370376</td>\n",
       "      <td>7.7500</td>\n",
       "      <td>NaN</td>\n",
       "      <td>Q</td>\n",
       "    </tr>\n",
       "  </tbody>\n",
       "</table>\n",
       "<p>891 rows × 12 columns</p>\n",
       "</div>"
      ],
      "text/plain": [
       "     PassengerId  Survived  Pclass  \\\n",
       "0              1         0       3   \n",
       "1              2         1       1   \n",
       "2              3         1       3   \n",
       "3              4         1       1   \n",
       "4              5         0       3   \n",
       "..           ...       ...     ...   \n",
       "886          887         0       2   \n",
       "887          888         1       1   \n",
       "888          889         0       3   \n",
       "889          890         1       1   \n",
       "890          891         0       3   \n",
       "\n",
       "                                                  Name     Sex   Age  SibSp  \\\n",
       "0                              Braund, Mr. Owen Harris    male  22.0      1   \n",
       "1    Cumings, Mrs. John Bradley (Florence Briggs Th...  female  38.0      1   \n",
       "2                               Heikkinen, Miss. Laina  female  26.0      0   \n",
       "3         Futrelle, Mrs. Jacques Heath (Lily May Peel)  female  35.0      1   \n",
       "4                             Allen, Mr. William Henry    male  35.0      0   \n",
       "..                                                 ...     ...   ...    ...   \n",
       "886                              Montvila, Rev. Juozas    male  27.0      0   \n",
       "887                       Graham, Miss. Margaret Edith  female  19.0      0   \n",
       "888           Johnston, Miss. Catherine Helen \"Carrie\"  female   NaN      1   \n",
       "889                              Behr, Mr. Karl Howell    male  26.0      0   \n",
       "890                                Dooley, Mr. Patrick    male  32.0      0   \n",
       "\n",
       "     Parch            Ticket     Fare Cabin Embarked  \n",
       "0        0         A/5 21171   7.2500   NaN        S  \n",
       "1        0          PC 17599  71.2833   C85        C  \n",
       "2        0  STON/O2. 3101282   7.9250   NaN        S  \n",
       "3        0            113803  53.1000  C123        S  \n",
       "4        0            373450   8.0500   NaN        S  \n",
       "..     ...               ...      ...   ...      ...  \n",
       "886      0            211536  13.0000   NaN        S  \n",
       "887      0            112053  30.0000   B42        S  \n",
       "888      2        W./C. 6607  23.4500   NaN        S  \n",
       "889      0            111369  30.0000  C148        C  \n",
       "890      0            370376   7.7500   NaN        Q  \n",
       "\n",
       "[891 rows x 12 columns]"
      ]
     },
     "execution_count": 210,
     "metadata": {},
     "output_type": "execute_result"
    }
   ],
   "source": [
    "train_data"
   ]
  },
  {
   "cell_type": "code",
   "execution_count": 211,
   "id": "b3f5c2cd-3d0a-43b8-8100-5877fd4d18db",
   "metadata": {
    "scrolled": true
   },
   "outputs": [
    {
     "data": {
      "text/html": [
       "<div>\n",
       "<style scoped>\n",
       "    .dataframe tbody tr th:only-of-type {\n",
       "        vertical-align: middle;\n",
       "    }\n",
       "\n",
       "    .dataframe tbody tr th {\n",
       "        vertical-align: top;\n",
       "    }\n",
       "\n",
       "    .dataframe thead th {\n",
       "        text-align: right;\n",
       "    }\n",
       "</style>\n",
       "<table border=\"1\" class=\"dataframe\">\n",
       "  <thead>\n",
       "    <tr style=\"text-align: right;\">\n",
       "      <th></th>\n",
       "      <th>PassengerId</th>\n",
       "      <th>Survived</th>\n",
       "      <th>Pclass</th>\n",
       "      <th>Name</th>\n",
       "      <th>Sex</th>\n",
       "      <th>Age</th>\n",
       "      <th>SibSp</th>\n",
       "      <th>Parch</th>\n",
       "      <th>Ticket</th>\n",
       "      <th>Fare</th>\n",
       "      <th>Cabin</th>\n",
       "      <th>Embarked</th>\n",
       "    </tr>\n",
       "  </thead>\n",
       "  <tbody>\n",
       "    <tr>\n",
       "      <th>0</th>\n",
       "      <td>1</td>\n",
       "      <td>0</td>\n",
       "      <td>3</td>\n",
       "      <td>Braund, Mr. Owen Harris</td>\n",
       "      <td>male</td>\n",
       "      <td>22.0</td>\n",
       "      <td>1</td>\n",
       "      <td>0</td>\n",
       "      <td>A/5 21171</td>\n",
       "      <td>7.2500</td>\n",
       "      <td>NaN</td>\n",
       "      <td>S</td>\n",
       "    </tr>\n",
       "    <tr>\n",
       "      <th>1</th>\n",
       "      <td>2</td>\n",
       "      <td>1</td>\n",
       "      <td>1</td>\n",
       "      <td>Cumings, Mrs. John Bradley (Florence Briggs Th...</td>\n",
       "      <td>female</td>\n",
       "      <td>38.0</td>\n",
       "      <td>1</td>\n",
       "      <td>0</td>\n",
       "      <td>PC 17599</td>\n",
       "      <td>71.2833</td>\n",
       "      <td>C85</td>\n",
       "      <td>C</td>\n",
       "    </tr>\n",
       "    <tr>\n",
       "      <th>2</th>\n",
       "      <td>3</td>\n",
       "      <td>1</td>\n",
       "      <td>3</td>\n",
       "      <td>Heikkinen, Miss. Laina</td>\n",
       "      <td>female</td>\n",
       "      <td>26.0</td>\n",
       "      <td>0</td>\n",
       "      <td>0</td>\n",
       "      <td>STON/O2. 3101282</td>\n",
       "      <td>7.9250</td>\n",
       "      <td>NaN</td>\n",
       "      <td>S</td>\n",
       "    </tr>\n",
       "    <tr>\n",
       "      <th>3</th>\n",
       "      <td>4</td>\n",
       "      <td>1</td>\n",
       "      <td>1</td>\n",
       "      <td>Futrelle, Mrs. Jacques Heath (Lily May Peel)</td>\n",
       "      <td>female</td>\n",
       "      <td>35.0</td>\n",
       "      <td>1</td>\n",
       "      <td>0</td>\n",
       "      <td>113803</td>\n",
       "      <td>53.1000</td>\n",
       "      <td>C123</td>\n",
       "      <td>S</td>\n",
       "    </tr>\n",
       "    <tr>\n",
       "      <th>4</th>\n",
       "      <td>5</td>\n",
       "      <td>0</td>\n",
       "      <td>3</td>\n",
       "      <td>Allen, Mr. William Henry</td>\n",
       "      <td>male</td>\n",
       "      <td>35.0</td>\n",
       "      <td>0</td>\n",
       "      <td>0</td>\n",
       "      <td>373450</td>\n",
       "      <td>8.0500</td>\n",
       "      <td>NaN</td>\n",
       "      <td>S</td>\n",
       "    </tr>\n",
       "    <tr>\n",
       "      <th>5</th>\n",
       "      <td>6</td>\n",
       "      <td>0</td>\n",
       "      <td>3</td>\n",
       "      <td>Moran, Mr. James</td>\n",
       "      <td>male</td>\n",
       "      <td>NaN</td>\n",
       "      <td>0</td>\n",
       "      <td>0</td>\n",
       "      <td>330877</td>\n",
       "      <td>8.4583</td>\n",
       "      <td>NaN</td>\n",
       "      <td>Q</td>\n",
       "    </tr>\n",
       "    <tr>\n",
       "      <th>6</th>\n",
       "      <td>7</td>\n",
       "      <td>0</td>\n",
       "      <td>1</td>\n",
       "      <td>McCarthy, Mr. Timothy J</td>\n",
       "      <td>male</td>\n",
       "      <td>54.0</td>\n",
       "      <td>0</td>\n",
       "      <td>0</td>\n",
       "      <td>17463</td>\n",
       "      <td>51.8625</td>\n",
       "      <td>E46</td>\n",
       "      <td>S</td>\n",
       "    </tr>\n",
       "    <tr>\n",
       "      <th>7</th>\n",
       "      <td>8</td>\n",
       "      <td>0</td>\n",
       "      <td>3</td>\n",
       "      <td>Palsson, Master. Gosta Leonard</td>\n",
       "      <td>male</td>\n",
       "      <td>2.0</td>\n",
       "      <td>3</td>\n",
       "      <td>1</td>\n",
       "      <td>349909</td>\n",
       "      <td>21.0750</td>\n",
       "      <td>NaN</td>\n",
       "      <td>S</td>\n",
       "    </tr>\n",
       "    <tr>\n",
       "      <th>8</th>\n",
       "      <td>9</td>\n",
       "      <td>1</td>\n",
       "      <td>3</td>\n",
       "      <td>Johnson, Mrs. Oscar W (Elisabeth Vilhelmina Berg)</td>\n",
       "      <td>female</td>\n",
       "      <td>27.0</td>\n",
       "      <td>0</td>\n",
       "      <td>2</td>\n",
       "      <td>347742</td>\n",
       "      <td>11.1333</td>\n",
       "      <td>NaN</td>\n",
       "      <td>S</td>\n",
       "    </tr>\n",
       "    <tr>\n",
       "      <th>9</th>\n",
       "      <td>10</td>\n",
       "      <td>1</td>\n",
       "      <td>2</td>\n",
       "      <td>Nasser, Mrs. Nicholas (Adele Achem)</td>\n",
       "      <td>female</td>\n",
       "      <td>14.0</td>\n",
       "      <td>1</td>\n",
       "      <td>0</td>\n",
       "      <td>237736</td>\n",
       "      <td>30.0708</td>\n",
       "      <td>NaN</td>\n",
       "      <td>C</td>\n",
       "    </tr>\n",
       "  </tbody>\n",
       "</table>\n",
       "</div>"
      ],
      "text/plain": [
       "   PassengerId  Survived  Pclass  \\\n",
       "0            1         0       3   \n",
       "1            2         1       1   \n",
       "2            3         1       3   \n",
       "3            4         1       1   \n",
       "4            5         0       3   \n",
       "5            6         0       3   \n",
       "6            7         0       1   \n",
       "7            8         0       3   \n",
       "8            9         1       3   \n",
       "9           10         1       2   \n",
       "\n",
       "                                                Name     Sex   Age  SibSp  \\\n",
       "0                            Braund, Mr. Owen Harris    male  22.0      1   \n",
       "1  Cumings, Mrs. John Bradley (Florence Briggs Th...  female  38.0      1   \n",
       "2                             Heikkinen, Miss. Laina  female  26.0      0   \n",
       "3       Futrelle, Mrs. Jacques Heath (Lily May Peel)  female  35.0      1   \n",
       "4                           Allen, Mr. William Henry    male  35.0      0   \n",
       "5                                   Moran, Mr. James    male   NaN      0   \n",
       "6                            McCarthy, Mr. Timothy J    male  54.0      0   \n",
       "7                     Palsson, Master. Gosta Leonard    male   2.0      3   \n",
       "8  Johnson, Mrs. Oscar W (Elisabeth Vilhelmina Berg)  female  27.0      0   \n",
       "9                Nasser, Mrs. Nicholas (Adele Achem)  female  14.0      1   \n",
       "\n",
       "   Parch            Ticket     Fare Cabin Embarked  \n",
       "0      0         A/5 21171   7.2500   NaN        S  \n",
       "1      0          PC 17599  71.2833   C85        C  \n",
       "2      0  STON/O2. 3101282   7.9250   NaN        S  \n",
       "3      0            113803  53.1000  C123        S  \n",
       "4      0            373450   8.0500   NaN        S  \n",
       "5      0            330877   8.4583   NaN        Q  \n",
       "6      0             17463  51.8625   E46        S  \n",
       "7      1            349909  21.0750   NaN        S  \n",
       "8      2            347742  11.1333   NaN        S  \n",
       "9      0            237736  30.0708   NaN        C  "
      ]
     },
     "execution_count": 211,
     "metadata": {},
     "output_type": "execute_result"
    }
   ],
   "source": [
    "train_data.head(10)"
   ]
  },
  {
   "cell_type": "code",
   "execution_count": 212,
   "id": "4604408e-9fc4-43df-b015-3c6a8b8c46ee",
   "metadata": {},
   "outputs": [
    {
     "data": {
      "text/html": [
       "<div>\n",
       "<style scoped>\n",
       "    .dataframe tbody tr th:only-of-type {\n",
       "        vertical-align: middle;\n",
       "    }\n",
       "\n",
       "    .dataframe tbody tr th {\n",
       "        vertical-align: top;\n",
       "    }\n",
       "\n",
       "    .dataframe thead th {\n",
       "        text-align: right;\n",
       "    }\n",
       "</style>\n",
       "<table border=\"1\" class=\"dataframe\">\n",
       "  <thead>\n",
       "    <tr style=\"text-align: right;\">\n",
       "      <th></th>\n",
       "      <th>PassengerId</th>\n",
       "      <th>Survived</th>\n",
       "      <th>Pclass</th>\n",
       "      <th>Age</th>\n",
       "      <th>SibSp</th>\n",
       "      <th>Parch</th>\n",
       "      <th>Fare</th>\n",
       "    </tr>\n",
       "  </thead>\n",
       "  <tbody>\n",
       "    <tr>\n",
       "      <th>count</th>\n",
       "      <td>891.000000</td>\n",
       "      <td>891.000000</td>\n",
       "      <td>891.000000</td>\n",
       "      <td>714.000000</td>\n",
       "      <td>891.000000</td>\n",
       "      <td>891.000000</td>\n",
       "      <td>891.000000</td>\n",
       "    </tr>\n",
       "    <tr>\n",
       "      <th>mean</th>\n",
       "      <td>446.000000</td>\n",
       "      <td>0.383838</td>\n",
       "      <td>2.308642</td>\n",
       "      <td>29.699118</td>\n",
       "      <td>0.523008</td>\n",
       "      <td>0.381594</td>\n",
       "      <td>32.204208</td>\n",
       "    </tr>\n",
       "    <tr>\n",
       "      <th>std</th>\n",
       "      <td>257.353842</td>\n",
       "      <td>0.486592</td>\n",
       "      <td>0.836071</td>\n",
       "      <td>14.526497</td>\n",
       "      <td>1.102743</td>\n",
       "      <td>0.806057</td>\n",
       "      <td>49.693429</td>\n",
       "    </tr>\n",
       "    <tr>\n",
       "      <th>min</th>\n",
       "      <td>1.000000</td>\n",
       "      <td>0.000000</td>\n",
       "      <td>1.000000</td>\n",
       "      <td>0.420000</td>\n",
       "      <td>0.000000</td>\n",
       "      <td>0.000000</td>\n",
       "      <td>0.000000</td>\n",
       "    </tr>\n",
       "    <tr>\n",
       "      <th>25%</th>\n",
       "      <td>223.500000</td>\n",
       "      <td>0.000000</td>\n",
       "      <td>2.000000</td>\n",
       "      <td>20.125000</td>\n",
       "      <td>0.000000</td>\n",
       "      <td>0.000000</td>\n",
       "      <td>7.910400</td>\n",
       "    </tr>\n",
       "    <tr>\n",
       "      <th>50%</th>\n",
       "      <td>446.000000</td>\n",
       "      <td>0.000000</td>\n",
       "      <td>3.000000</td>\n",
       "      <td>28.000000</td>\n",
       "      <td>0.000000</td>\n",
       "      <td>0.000000</td>\n",
       "      <td>14.454200</td>\n",
       "    </tr>\n",
       "    <tr>\n",
       "      <th>75%</th>\n",
       "      <td>668.500000</td>\n",
       "      <td>1.000000</td>\n",
       "      <td>3.000000</td>\n",
       "      <td>38.000000</td>\n",
       "      <td>1.000000</td>\n",
       "      <td>0.000000</td>\n",
       "      <td>31.000000</td>\n",
       "    </tr>\n",
       "    <tr>\n",
       "      <th>max</th>\n",
       "      <td>891.000000</td>\n",
       "      <td>1.000000</td>\n",
       "      <td>3.000000</td>\n",
       "      <td>80.000000</td>\n",
       "      <td>8.000000</td>\n",
       "      <td>6.000000</td>\n",
       "      <td>512.329200</td>\n",
       "    </tr>\n",
       "  </tbody>\n",
       "</table>\n",
       "</div>"
      ],
      "text/plain": [
       "       PassengerId    Survived      Pclass         Age       SibSp  \\\n",
       "count   891.000000  891.000000  891.000000  714.000000  891.000000   \n",
       "mean    446.000000    0.383838    2.308642   29.699118    0.523008   \n",
       "std     257.353842    0.486592    0.836071   14.526497    1.102743   \n",
       "min       1.000000    0.000000    1.000000    0.420000    0.000000   \n",
       "25%     223.500000    0.000000    2.000000   20.125000    0.000000   \n",
       "50%     446.000000    0.000000    3.000000   28.000000    0.000000   \n",
       "75%     668.500000    1.000000    3.000000   38.000000    1.000000   \n",
       "max     891.000000    1.000000    3.000000   80.000000    8.000000   \n",
       "\n",
       "            Parch        Fare  \n",
       "count  891.000000  891.000000  \n",
       "mean     0.381594   32.204208  \n",
       "std      0.806057   49.693429  \n",
       "min      0.000000    0.000000  \n",
       "25%      0.000000    7.910400  \n",
       "50%      0.000000   14.454200  \n",
       "75%      0.000000   31.000000  \n",
       "max      6.000000  512.329200  "
      ]
     },
     "execution_count": 212,
     "metadata": {},
     "output_type": "execute_result"
    }
   ],
   "source": [
    "train_data.describe()"
   ]
  },
  {
   "cell_type": "markdown",
   "id": "f507aeec-0c50-44e2-ad6a-34c9cb22d1de",
   "metadata": {},
   "source": [
    "From the Heatmap we notice positive correlation between number of Survived people and Fare as well as strong negative correlation between it and the Ticket class (Pclass), this is because Pclass is nummeric in data(1 = 1st, 2 = 2nd, 3 = 3rd) "
   ]
  },
  {
   "cell_type": "code",
   "execution_count": 213,
   "id": "23d81f3f-0168-48e5-a2f6-890c9573cf0b",
   "metadata": {},
   "outputs": [
    {
     "data": {
      "image/png": "[encoded data removed]",
      "text/plain": [
       "<Figure size 640x480 with 2 Axes>"
      ]
     },
     "metadata": {},
     "output_type": "display_data"
    }
   ],
   "source": [
    "numeric_data = train_data.select_dtypes(include=[np.number])\n",
    "sns.heatmap(numeric_data.corr(), cmap= \"YlGnBu\")\n",
    "plt.show()"
   ]
  },
  {
   "cell_type": "markdown",
   "id": "181a7c5b-fa58-45f9-8a6b-eb6ce037bde4",
   "metadata": {},
   "source": [
    "Now we will spit our training dataset to 80% for model training and 20% for testing and since we don't want to depend on randomness we will use **Stratified Shuffle Split** which make sure that both sets are representative of the overall distribution of the data"
   ]
  },
  {
   "cell_type": "markdown",
   "id": "3ab7ea3d-9f36-4b81-887b-6959b082ac24",
   "metadata": {},
   "source": [
    "<h3> First: The Stratification </h3>"
   ]
  },
  {
   "cell_type": "code",
   "execution_count": 214,
   "id": "8fc8278d-46b4-459d-acfa-f330e5cadda2",
   "metadata": {},
   "outputs": [],
   "source": [
    "from sklearn.model_selection import StratifiedShuffleSplit\n",
    "#splits number is one\n",
    "#Proportion of the dataset to include in the test split. In this case, 20% of the data.\n",
    "#no need for reproduction so, there is no random_state parameter \n",
    "split = StratifiedShuffleSplit(n_splits = 1, test_size = 0.2)"
   ]
  },
  {
   "cell_type": "markdown",
   "id": "e31d6a83-70b8-4de3-9e8f-3a55d0085d62",
   "metadata": {},
   "source": [
    "<h3> Second: The Shuffling </h3>"
   ]
  },
  {
   "cell_type": "markdown",
   "id": "3eed8abc-aec9-434b-9586-6e28857852a6",
   "metadata": {},
   "source": [
    "Randomly shuffles the data before splitting it into training and test sets, ensuring that the splits are randomized."
   ]
  },
  {
   "cell_type": "code",
   "execution_count": 215,
   "id": "8fd0018e-e34b-4542-9143-2cc19fa3fd89",
   "metadata": {},
   "outputs": [],
   "source": [
    "for train_indices , test_indices in split.split(train_data, train_data[[\"Survived\",\"Pclass\",\"Sex\"]]):\n",
    "    stratified_train_set = train_data.loc[train_indices]\n",
    "    stratified_test_set = train_data.loc[test_indices]"
   ]
  },
  {
   "cell_type": "markdown",
   "id": "44d0ca81-8282-41e3-a824-9b6cadfc2d2c",
   "metadata": {},
   "source": [
    "<h3> Now we have representative data for training and testing the model </h3>"
   ]
  },
  {
   "cell_type": "code",
   "execution_count": 216,
   "id": "47c672c0-1b3d-4d0c-8089-244befaa76d9",
   "metadata": {},
   "outputs": [
    {
     "data": {
      "image/png": "[encoded data removed]",
      "text/plain": [
       "<Figure size 640x480 with 2 Axes>"
      ]
     },
     "metadata": {},
     "output_type": "display_data"
    }
   ],
   "source": [
    "plt.subplot(1,2,1)\n",
    "stratified_train_set[\"Survived\"].hist(bins=5, color='xkcd:sky blue', edgecolor='black')\n",
    "stratified_train_set[\"Pclass\"].hist(bins=5, color='aquamarine', edgecolor='black')\n",
    "plt.subplot(1,2,2)\n",
    "stratified_test_set[\"Survived\"].hist(bins=5, color='xkcd:sky blue', edgecolor='black')\n",
    "stratified_test_set[\"Pclass\"].hist(bins=5, color='aquamarine', edgecolor='black')\n",
    "plt.tight_layout()"
   ]
  },
  {
   "cell_type": "markdown",
   "id": "b5b9cb29-c9ab-4723-b7f8-623f45719d53",
   "metadata": {},
   "source": [
    "<h3> Now we need to check for the missing values in data </h3>"
   ]
  },
  {
   "cell_type": "code",
   "execution_count": 217,
   "id": "4546b8f1-2909-4451-b4b3-8a25ddd3f57c",
   "metadata": {},
   "outputs": [
    {
     "name": "stdout",
     "output_type": "stream",
     "text": [
      "<class 'pandas.core.frame.DataFrame'>\n",
      "Index: 712 entries, 829 to 338\n",
      "Data columns (total 12 columns):\n",
      " #   Column       Non-Null Count  Dtype  \n",
      "---  ------       --------------  -----  \n",
      " 0   PassengerId  712 non-null    int64  \n",
      " 1   Survived     712 non-null    int64  \n",
      " 2   Pclass       712 non-null    int64  \n",
      " 3   Name         712 non-null    object \n",
      " 4   Sex          712 non-null    object \n",
      " 5   Age          573 non-null    float64\n",
      " 6   SibSp        712 non-null    int64  \n",
      " 7   Parch        712 non-null    int64  \n",
      " 8   Ticket       712 non-null    object \n",
      " 9   Fare         712 non-null    float64\n",
      " 10  Cabin        161 non-null    object \n",
      " 11  Embarked     710 non-null    object \n",
      "dtypes: float64(2), int64(5), object(5)\n",
      "memory usage: 72.3+ KB\n"
     ]
    }
   ],
   "source": [
    "stratified_train_set.info()"
   ]
  },
  {
   "cell_type": "code",
   "execution_count": 218,
   "id": "b7e1f903-cb06-4c85-895b-a5d24227feee",
   "metadata": {},
   "outputs": [
    {
     "name": "stdout",
     "output_type": "stream",
     "text": [
      "<class 'pandas.core.frame.DataFrame'>\n",
      "Index: 179 entries, 557 to 283\n",
      "Data columns (total 12 columns):\n",
      " #   Column       Non-Null Count  Dtype  \n",
      "---  ------       --------------  -----  \n",
      " 0   PassengerId  179 non-null    int64  \n",
      " 1   Survived     179 non-null    int64  \n",
      " 2   Pclass       179 non-null    int64  \n",
      " 3   Name         179 non-null    object \n",
      " 4   Sex          179 non-null    object \n",
      " 5   Age          141 non-null    float64\n",
      " 6   SibSp        179 non-null    int64  \n",
      " 7   Parch        179 non-null    int64  \n",
      " 8   Ticket       179 non-null    object \n",
      " 9   Fare         179 non-null    float64\n",
      " 10  Cabin        43 non-null     object \n",
      " 11  Embarked     179 non-null    object \n",
      "dtypes: float64(2), int64(5), object(5)\n",
      "memory usage: 18.2+ KB\n"
     ]
    }
   ],
   "source": [
    "stratified_test_set.info()"
   ]
  },
  {
   "cell_type": "markdown",
   "id": "50cebd5c-2bed-453d-9d0e-f9bd8b86f051",
   "metadata": {},
   "source": [
    "<h4>\n",
    "    Since the missing values are in more than 100 rows we will need to impute the data to not lose any valuable insight. \n",
    "</h4>"
   ]
  },
  {
   "cell_type": "markdown",
   "id": "9757fb5a-290f-4b4a-920e-dd403462ff6c",
   "metadata": {},
   "source": [
    "For here we will be imputting age column by **mean** value"
   ]
  },
  {
   "cell_type": "markdown",
   "id": "778c5a6f-cb4a-4422-a28e-55df33c2e020",
   "metadata": {},
   "source": [
    "<h3> Imputation by Estimators </h3>"
   ]
  },
  {
   "cell_type": "code",
   "execution_count": 219,
   "id": "b0627e2c-185f-4afa-aea0-6735928a1ed7",
   "metadata": {},
   "outputs": [],
   "source": [
    "from sklearn.base import BaseEstimator, TransformerMixin\n",
    "from sklearn.impute import SimpleImputer"
   ]
  },
  {
   "cell_type": "markdown",
   "id": "16e63197-fdef-4050-bd9f-2f7e1a4d7f19",
   "metadata": {},
   "source": [
    "This class inherits from BaseEstimator and TransformerMixin, which are base classes from scikit-learn used to create custom transformers that can be integrated into scikit-learn pipelines."
   ]
  },
  {
   "cell_type": "code",
   "execution_count": 220,
   "id": "9aead538-348f-4c2c-9e74-c583630c2cc4",
   "metadata": {},
   "outputs": [],
   "source": [
    "class AgeImputer(BaseEstimator, TransformerMixin):\n",
    "    # standard practice when the transformation does not require fitting\n",
    "    def fit(self,x,y=None):\n",
    "        return self #since no calculations needed\n",
    "    def transform(self,x,y=None):\n",
    "        imputer = SimpleImputer(strategy = \"mean\")\n",
    "        x[\"Age\"] = imputer.fit_transform(x[[\"Age\"]])\n",
    "        return x"
   ]
  },
  {
   "cell_type": "markdown",
   "id": "4dd73e2d-fa6a-4e5c-a5a7-01790f474ce1",
   "metadata": {},
   "source": [
    "<h3>\n",
    "    Encoding\n",
    "</h3>"
   ]
  },
  {
   "cell_type": "markdown",
   "id": "a007be76-068c-4367-9d5b-d35a87745d7a",
   "metadata": {},
   "source": [
    "Here we will use One hot encoding to change some categorical data to Binary data"
   ]
  },
  {
   "cell_type": "code",
   "execution_count": 221,
   "id": "222e6c30-bd90-4385-87cd-a830529ce86d",
   "metadata": {},
   "outputs": [],
   "source": [
    "from sklearn.preprocessing import OneHotEncoder"
   ]
  },
  {
   "cell_type": "code",
   "execution_count": 222,
   "id": "062a705c-9481-4fed-b39b-a11616c6aecd",
   "metadata": {},
   "outputs": [],
   "source": [
    "class FeatureEncoding(BaseEstimator, TransformerMixin):\n",
    "    def fit(self,x,y=None):\n",
    "        return self #since no calculations needed\n",
    "    def transform(self,x,y=None):\n",
    "        encoder = OneHotEncoder()\n",
    "        #double square brackets ([[\"Embarked\"]]) ensure that the result is a DataFrame, not a Series. \n",
    "        #This is important because OneHotEncoder expects a 2D array-like structure as input, which a DataFrame provides.\n",
    "        matrix = encoder.fit_transform(x[[\"Embarked\"]]).toarray()\n",
    "        column_names = [\"C\",\"S\",\"Q\",\"N\"]\n",
    "        #matrix transpose\n",
    "        for i in range(len(matrix.T)):\n",
    "            x[column_names[i]] = matrix.T[i]\n",
    "        matrix = encoder.fit_transform(x[[\"Sex\"]]).toarray()\n",
    "        column_names = [\"Male\",\"Female\"]\n",
    "        #matrix transpose\n",
    "        for i in range(len(matrix.T)):\n",
    "            x[column_names[i]] = matrix.T[i] \n",
    "        return x    \n",
    "        "
   ]
  },
  {
   "cell_type": "markdown",
   "id": "d2f6b6cd-cf82-46ab-9d3c-164a29e1cbea",
   "metadata": {},
   "source": [
    "<h3>\n",
    "    Feature Droping\n",
    "</h3>"
   ]
  },
  {
   "cell_type": "code",
   "execution_count": 223,
   "id": "05a00aaa-ee9e-4567-9232-9c29a4522600",
   "metadata": {},
   "outputs": [],
   "source": [
    "class FeatureDroping(BaseEstimator, TransformerMixin):\n",
    "    def fit(self,x,y=None):\n",
    "        return self #since no calculations needed\n",
    "    def transform(self,x,y=None):\n",
    "        #axis =1 -> drop columns not rows\n",
    "        return x.drop([\"Name\",\"Ticket\",\"Embarked\",\"Sex\",\"Cabin\",\"N\"], axis = 1 , errors = \"ignore\")    "
   ]
  },
  {
   "cell_type": "markdown",
   "id": "d01dde97-a618-4ea9-8048-e7992c66b669",
   "metadata": {},
   "source": [
    "<h2>\n",
    "    Pipeline\n",
    "</h2>"
   ]
  },
  {
   "cell_type": "code",
   "execution_count": 224,
   "id": "377a2052-559e-4c77-8ca6-70838d433e52",
   "metadata": {},
   "outputs": [],
   "source": [
    "from sklearn.pipeline import Pipeline"
   ]
  },
  {
   "cell_type": "code",
   "execution_count": 225,
   "id": "c27537ac-540e-4208-a341-cf1c4df477a5",
   "metadata": {},
   "outputs": [],
   "source": [
    "#list of tuples\n",
    "pipeline = Pipeline([(\"ageImputer\",AgeImputer()),\n",
    "                     (\"featureEncoding\",FeatureEncoding()),\n",
    "                     (\"featureDroping\",FeatureDroping())\n",
    "                    ])"
   ]
  },
  {
   "cell_type": "code",
   "execution_count": 226,
   "id": "c9b175f8-d6e4-4304-816b-6b0aa590c52f",
   "metadata": {},
   "outputs": [],
   "source": [
    "stratified_train_set = pipeline.fit_transform(stratified_train_set)"
   ]
  },
  {
   "cell_type": "code",
   "execution_count": 227,
   "id": "978c5b91-5196-41cb-bf1d-3d43d659f163",
   "metadata": {},
   "outputs": [
    {
     "data": {
      "text/html": [
       "<div>\n",
       "<style scoped>\n",
       "    .dataframe tbody tr th:only-of-type {\n",
       "        vertical-align: middle;\n",
       "    }\n",
       "\n",
       "    .dataframe tbody tr th {\n",
       "        vertical-align: top;\n",
       "    }\n",
       "\n",
       "    .dataframe thead th {\n",
       "        text-align: right;\n",
       "    }\n",
       "</style>\n",
       "<table border=\"1\" class=\"dataframe\">\n",
       "  <thead>\n",
       "    <tr style=\"text-align: right;\">\n",
       "      <th></th>\n",
       "      <th>PassengerId</th>\n",
       "      <th>Survived</th>\n",
       "      <th>Pclass</th>\n",
       "      <th>Age</th>\n",
       "      <th>SibSp</th>\n",
       "      <th>Parch</th>\n",
       "      <th>Fare</th>\n",
       "      <th>C</th>\n",
       "      <th>S</th>\n",
       "      <th>Q</th>\n",
       "      <th>Male</th>\n",
       "      <th>Female</th>\n",
       "    </tr>\n",
       "  </thead>\n",
       "  <tbody>\n",
       "    <tr>\n",
       "      <th>829</th>\n",
       "      <td>830</td>\n",
       "      <td>1</td>\n",
       "      <td>1</td>\n",
       "      <td>62.000000</td>\n",
       "      <td>0</td>\n",
       "      <td>0</td>\n",
       "      <td>80.0000</td>\n",
       "      <td>0.0</td>\n",
       "      <td>0.0</td>\n",
       "      <td>0.0</td>\n",
       "      <td>1.0</td>\n",
       "      <td>0.0</td>\n",
       "    </tr>\n",
       "    <tr>\n",
       "      <th>595</th>\n",
       "      <td>596</td>\n",
       "      <td>0</td>\n",
       "      <td>3</td>\n",
       "      <td>36.000000</td>\n",
       "      <td>1</td>\n",
       "      <td>1</td>\n",
       "      <td>24.1500</td>\n",
       "      <td>0.0</td>\n",
       "      <td>0.0</td>\n",
       "      <td>1.0</td>\n",
       "      <td>0.0</td>\n",
       "      <td>1.0</td>\n",
       "    </tr>\n",
       "    <tr>\n",
       "      <th>336</th>\n",
       "      <td>337</td>\n",
       "      <td>0</td>\n",
       "      <td>1</td>\n",
       "      <td>29.000000</td>\n",
       "      <td>1</td>\n",
       "      <td>0</td>\n",
       "      <td>66.6000</td>\n",
       "      <td>0.0</td>\n",
       "      <td>0.0</td>\n",
       "      <td>1.0</td>\n",
       "      <td>0.0</td>\n",
       "      <td>1.0</td>\n",
       "    </tr>\n",
       "    <tr>\n",
       "      <th>201</th>\n",
       "      <td>202</td>\n",
       "      <td>0</td>\n",
       "      <td>3</td>\n",
       "      <td>29.551483</td>\n",
       "      <td>8</td>\n",
       "      <td>2</td>\n",
       "      <td>69.5500</td>\n",
       "      <td>0.0</td>\n",
       "      <td>0.0</td>\n",
       "      <td>1.0</td>\n",
       "      <td>0.0</td>\n",
       "      <td>1.0</td>\n",
       "    </tr>\n",
       "    <tr>\n",
       "      <th>767</th>\n",
       "      <td>768</td>\n",
       "      <td>0</td>\n",
       "      <td>3</td>\n",
       "      <td>30.500000</td>\n",
       "      <td>0</td>\n",
       "      <td>0</td>\n",
       "      <td>7.7500</td>\n",
       "      <td>0.0</td>\n",
       "      <td>1.0</td>\n",
       "      <td>0.0</td>\n",
       "      <td>1.0</td>\n",
       "      <td>0.0</td>\n",
       "    </tr>\n",
       "    <tr>\n",
       "      <th>...</th>\n",
       "      <td>...</td>\n",
       "      <td>...</td>\n",
       "      <td>...</td>\n",
       "      <td>...</td>\n",
       "      <td>...</td>\n",
       "      <td>...</td>\n",
       "      <td>...</td>\n",
       "      <td>...</td>\n",
       "      <td>...</td>\n",
       "      <td>...</td>\n",
       "      <td>...</td>\n",
       "      <td>...</td>\n",
       "    </tr>\n",
       "    <tr>\n",
       "      <th>30</th>\n",
       "      <td>31</td>\n",
       "      <td>0</td>\n",
       "      <td>1</td>\n",
       "      <td>40.000000</td>\n",
       "      <td>0</td>\n",
       "      <td>0</td>\n",
       "      <td>27.7208</td>\n",
       "      <td>1.0</td>\n",
       "      <td>0.0</td>\n",
       "      <td>0.0</td>\n",
       "      <td>0.0</td>\n",
       "      <td>1.0</td>\n",
       "    </tr>\n",
       "    <tr>\n",
       "      <th>293</th>\n",
       "      <td>294</td>\n",
       "      <td>0</td>\n",
       "      <td>3</td>\n",
       "      <td>24.000000</td>\n",
       "      <td>0</td>\n",
       "      <td>0</td>\n",
       "      <td>8.8500</td>\n",
       "      <td>0.0</td>\n",
       "      <td>0.0</td>\n",
       "      <td>1.0</td>\n",
       "      <td>1.0</td>\n",
       "      <td>0.0</td>\n",
       "    </tr>\n",
       "    <tr>\n",
       "      <th>547</th>\n",
       "      <td>548</td>\n",
       "      <td>1</td>\n",
       "      <td>2</td>\n",
       "      <td>29.551483</td>\n",
       "      <td>0</td>\n",
       "      <td>0</td>\n",
       "      <td>13.8625</td>\n",
       "      <td>1.0</td>\n",
       "      <td>0.0</td>\n",
       "      <td>0.0</td>\n",
       "      <td>0.0</td>\n",
       "      <td>1.0</td>\n",
       "    </tr>\n",
       "    <tr>\n",
       "      <th>350</th>\n",
       "      <td>351</td>\n",
       "      <td>0</td>\n",
       "      <td>3</td>\n",
       "      <td>23.000000</td>\n",
       "      <td>0</td>\n",
       "      <td>0</td>\n",
       "      <td>9.2250</td>\n",
       "      <td>0.0</td>\n",
       "      <td>0.0</td>\n",
       "      <td>1.0</td>\n",
       "      <td>0.0</td>\n",
       "      <td>1.0</td>\n",
       "    </tr>\n",
       "    <tr>\n",
       "      <th>338</th>\n",
       "      <td>339</td>\n",
       "      <td>1</td>\n",
       "      <td>3</td>\n",
       "      <td>45.000000</td>\n",
       "      <td>0</td>\n",
       "      <td>0</td>\n",
       "      <td>8.0500</td>\n",
       "      <td>0.0</td>\n",
       "      <td>0.0</td>\n",
       "      <td>1.0</td>\n",
       "      <td>0.0</td>\n",
       "      <td>1.0</td>\n",
       "    </tr>\n",
       "  </tbody>\n",
       "</table>\n",
       "<p>712 rows × 12 columns</p>\n",
       "</div>"
      ],
      "text/plain": [
       "     PassengerId  Survived  Pclass        Age  SibSp  Parch     Fare    C  \\\n",
       "829          830         1       1  62.000000      0      0  80.0000  0.0   \n",
       "595          596         0       3  36.000000      1      1  24.1500  0.0   \n",
       "336          337         0       1  29.000000      1      0  66.6000  0.0   \n",
       "201          202         0       3  29.551483      8      2  69.5500  0.0   \n",
       "767          768         0       3  30.500000      0      0   7.7500  0.0   \n",
       "..           ...       ...     ...        ...    ...    ...      ...  ...   \n",
       "30            31         0       1  40.000000      0      0  27.7208  1.0   \n",
       "293          294         0       3  24.000000      0      0   8.8500  0.0   \n",
       "547          548         1       2  29.551483      0      0  13.8625  1.0   \n",
       "350          351         0       3  23.000000      0      0   9.2250  0.0   \n",
       "338          339         1       3  45.000000      0      0   8.0500  0.0   \n",
       "\n",
       "       S    Q  Male  Female  \n",
       "829  0.0  0.0   1.0     0.0  \n",
       "595  0.0  1.0   0.0     1.0  \n",
       "336  0.0  1.0   0.0     1.0  \n",
       "201  0.0  1.0   0.0     1.0  \n",
       "767  1.0  0.0   1.0     0.0  \n",
       "..   ...  ...   ...     ...  \n",
       "30   0.0  0.0   0.0     1.0  \n",
       "293  0.0  1.0   1.0     0.0  \n",
       "547  0.0  0.0   0.0     1.0  \n",
       "350  0.0  1.0   0.0     1.0  \n",
       "338  0.0  1.0   0.0     1.0  \n",
       "\n",
       "[712 rows x 12 columns]"
      ]
     },
     "execution_count": 227,
     "metadata": {},
     "output_type": "execute_result"
    }
   ],
   "source": [
    "stratified_train_set"
   ]
  },
  {
   "cell_type": "markdown",
   "id": "7aa7a5dc-467b-4444-bc5e-22692a45b1d0",
   "metadata": {},
   "source": [
    "<h3>The following code is for preparing the data for machine learning:</h3>\n",
    "X is the <b>feature set</b> , obtained by dropping the Survived column.<br>\n",
    "Y is the <b>target set</b> , containing only the Survived column. (mean = 0, std =1) <br>\n",
    "StandardScaler is used to standardize the features.<br>\n",
    "The features (X) are scaled and stored in x_data.<br>\n",
    "The target variable (Y) is converted to a NumPy array and stored in y_data."
   ]
  },
  {
   "cell_type": "code",
   "execution_count": 228,
   "id": "2467242d-efcf-45eb-87f0-1d0dc9756593",
   "metadata": {},
   "outputs": [],
   "source": [
    "from sklearn.preprocessing import StandardScaler"
   ]
  },
  {
   "cell_type": "code",
   "execution_count": 241,
   "id": "474f59e1-d5f8-40b9-a25d-ecfb6902768b",
   "metadata": {},
   "outputs": [],
   "source": [
    "#Dropping the Target Column to Create Feature Set\n",
    "X = stratified_train_set.drop([\"Survived\"], axis =1)\n",
    "#Extracting the Target Column to Create Target Set\n",
    "Y = stratified_train_set[[\"Survived\"]] # Y-> DataFrame\n",
    "#used to standardize features by removing the mean and scaling to unit variance\n",
    "scaler = StandardScaler()\n",
    "#NumPy array where the features have been standardized.\n",
    "x_data = scaler.fit_transform(X)\n",
    "#many machine learning libraries expect inputs to be in NumPy array format\n",
    "y_data = Y.to_numpy().ravel()"
   ]
  },
  {
   "cell_type": "markdown",
   "id": "67153c4e-fda1-471e-a578-99701275aba0",
   "metadata": {},
   "source": [
    "Standardizing features is crucial for ensuring that machine learning models perform optimally and reliably across different datasets. It *enhances model convergence*,and *improves performance*. By reducing the impact of differing scales and *outliers*, standardization prepares the data for a more robust and effective modeling process."
   ]
  },
  {
   "cell_type": "markdown",
   "id": "c0f64c15-eeac-4935-ab4f-e75bc263b4ee",
   "metadata": {},
   "source": [
    "<h1>\n",
    "    Random Forest Classifier\n",
    "</h1>"
   ]
  },
  {
   "cell_type": "markdown",
   "id": "ded44b7e-e558-47b1-91ac-56f460783f94",
   "metadata": {},
   "source": [
    "<h2>Stratified Train data</h2>"
   ]
  },
  {
   "cell_type": "code",
   "execution_count": 242,
   "id": "c6b8216b-5d2e-4522-a74b-bcb97fc002b7",
   "metadata": {},
   "outputs": [],
   "source": [
    "from sklearn.ensemble import RandomForestClassifier\n",
    "from sklearn.model_selection import GridSearchCV"
   ]
  },
  {
   "cell_type": "code",
   "execution_count": 243,
   "id": "257b79ef-e044-4a47-8bb7-7dbd72dbad9b",
   "metadata": {},
   "outputs": [],
   "source": [
    "classifier = RandomForestClassifier()\n",
    "parameter_grid = [{\"n_estimators\":[10,100,200,500],\n",
    "                   \"max_depth\":[None,5,10],\n",
    "                   \"min_samples_split\":[2,3,4]\n",
    "                  }]\n",
    "grid_search = GridSearchCV(classifier, parameter_grid, cv=3, scoring =\"accuracy\",return_train_score = True)\n",
    "grid_search.fit(x_data,y_data)\n",
    "final_classifier = grid_search.best_estimator_"
   ]
  },
  {
   "cell_type": "code",
   "execution_count": 244,
   "id": "c1753655-26b2-4cd3-b90e-301748f9087a",
   "metadata": {},
   "outputs": [
    {
     "data": {
      "text/html": [
       "<style>#sk-container-id-1 {color: black;background-color: white;}#sk-container-id-1 pre{padding: 0;}#sk-container-id-1 div.sk-toggleable {background-color: white;}#sk-container-id-1 label.sk-toggleable__label {cursor: pointer;display: block;width: 100%;margin-bottom: 0;padding: 0.3em;box-sizing: border-box;text-align: center;}#sk-container-id-1 label.sk-toggleable__label-arrow:before {content: \"▸\";float: left;margin-right: 0.25em;color: #696969;}#sk-container-id-1 label.sk-toggleable__label-arrow:hover:before {color: black;}#sk-container-id-1 div.sk-estimator:hover label.sk-toggleable__label-arrow:before {color: black;}#sk-container-id-1 div.sk-toggleable__content {max-height: 0;max-width: 0;overflow: hidden;text-align: left;background-color: #f0f8ff;}#sk-container-id-1 div.sk-toggleable__content pre {margin: 0.2em;color: black;border-radius: 0.25em;background-color: #f0f8ff;}#sk-container-id-1 input.sk-toggleable__control:checked~div.sk-toggleable__content {max-height: 200px;max-width: 100%;overflow: auto;}#sk-container-id-1 input.sk-toggleable__control:checked~label.sk-toggleable__label-arrow:before {content: \"▾\";}#sk-container-id-1 div.sk-estimator input.sk-toggleable__control:checked~label.sk-toggleable__label {background-color: #d4ebff;}#sk-container-id-1 div.sk-label input.sk-toggleable__control:checked~label.sk-toggleable__label {background-color: #d4ebff;}#sk-container-id-1 input.sk-hidden--visually {border: 0;clip: rect(1px 1px 1px 1px);clip: rect(1px, 1px, 1px, 1px);height: 1px;margin: -1px;overflow: hidden;padding: 0;position: absolute;width: 1px;}#sk-container-id-1 div.sk-estimator {font-family: monospace;background-color: #f0f8ff;border: 1px dotted black;border-radius: 0.25em;box-sizing: border-box;margin-bottom: 0.5em;}#sk-container-id-1 div.sk-estimator:hover {background-color: #d4ebff;}#sk-container-id-1 div.sk-parallel-item::after {content: \"\";width: 100%;border-bottom: 1px solid gray;flex-grow: 1;}#sk-container-id-1 div.sk-label:hover label.sk-toggleable__label {background-color: #d4ebff;}#sk-container-id-1 div.sk-serial::before {content: \"\";position: absolute;border-left: 1px solid gray;box-sizing: border-box;top: 0;bottom: 0;left: 50%;z-index: 0;}#sk-container-id-1 div.sk-serial {display: flex;flex-direction: column;align-items: center;background-color: white;padding-right: 0.2em;padding-left: 0.2em;position: relative;}#sk-container-id-1 div.sk-item {position: relative;z-index: 1;}#sk-container-id-1 div.sk-parallel {display: flex;align-items: stretch;justify-content: center;background-color: white;position: relative;}#sk-container-id-1 div.sk-item::before, #sk-container-id-1 div.sk-parallel-item::before {content: \"\";position: absolute;border-left: 1px solid gray;box-sizing: border-box;top: 0;bottom: 0;left: 50%;z-index: -1;}#sk-container-id-1 div.sk-parallel-item {display: flex;flex-direction: column;z-index: 1;position: relative;background-color: white;}#sk-container-id-1 div.sk-parallel-item:first-child::after {align-self: flex-end;width: 50%;}#sk-container-id-1 div.sk-parallel-item:last-child::after {align-self: flex-start;width: 50%;}#sk-container-id-1 div.sk-parallel-item:only-child::after {width: 0;}#sk-container-id-1 div.sk-dashed-wrapped {border: 1px dashed gray;margin: 0 0.4em 0.5em 0.4em;box-sizing: border-box;padding-bottom: 0.4em;background-color: white;}#sk-container-id-1 div.sk-label label {font-family: monospace;font-weight: bold;display: inline-block;line-height: 1.2em;}#sk-container-id-1 div.sk-label-container {text-align: center;}#sk-container-id-1 div.sk-container {/* jupyter's `normalize.less` sets `[hidden] { display: none; }` but bootstrap.min.css set `[hidden] { display: none !important; }` so we also need the `!important` here to be able to override the default hidden behavior on the sphinx rendered scikit-learn.org. See: https://github.com/scikit-learn/scikit-learn/issues/21755 */display: inline-block !important;position: relative;}#sk-container-id-1 div.sk-text-repr-fallback {display: none;}</style><div id=\"sk-container-id-1\" class=\"sk-top-container\"><div class=\"sk-text-repr-fallback\"><pre>RandomForestClassifier(min_samples_split=4, n_estimators=500)</pre><b>In a Jupyter environment, please rerun this cell to show the HTML representation or trust the notebook. <br />On GitHub, the HTML representation is unable to render, please try loading this page with nbviewer.org.</b></div><div class=\"sk-container\" hidden><div class=\"sk-item\"><div class=\"sk-estimator sk-toggleable\"><input class=\"sk-toggleable__control sk-hidden--visually\" id=\"sk-estimator-id-1\" type=\"checkbox\" checked><label for=\"sk-estimator-id-1\" class=\"sk-toggleable__label sk-toggleable__label-arrow\">RandomForestClassifier</label><div class=\"sk-toggleable__content\"><pre>RandomForestClassifier(min_samples_split=4, n_estimators=500)</pre></div></div></div></div></div>"
      ],
      "text/plain": [
       "RandomForestClassifier(min_samples_split=4, n_estimators=500)"
      ]
     },
     "execution_count": 244,
     "metadata": {},
     "output_type": "execute_result"
    }
   ],
   "source": [
    "final_classifier"
   ]
  },
  {
   "cell_type": "markdown",
   "id": "288da2c2-2236-4ed8-be74-14452231daa4",
   "metadata": {},
   "source": [
    "<h2>Stratified Test data</h2>"
   ]
  },
  {
   "cell_type": "markdown",
   "id": "7d9b973d-44f3-446c-9cfe-5555cdcdc340",
   "metadata": {},
   "source": [
    "<h3>First: Pipeline </h3>"
   ]
  },
  {
   "cell_type": "code",
   "execution_count": null,
   "id": "dd18cbeb-0a9a-47b5-80e3-86a53eae9d18",
   "metadata": {},
   "outputs": [],
   "source": [
    "stratified_test_set = pipeline.fit_transform(stratified_test_set)"
   ]
  },
  {
   "cell_type": "markdown",
   "id": "1c656047-694a-4c93-8aa0-825cace74efb",
   "metadata": {},
   "source": [
    "<h3>Second: Scaling</h3>"
   ]
  },
  {
   "cell_type": "code",
   "execution_count": 257,
   "id": "bf9aa3d7-ba88-4ac9-ad10-c4cbd6fd654a",
   "metadata": {},
   "outputs": [],
   "source": [
    "X_test = stratified_test_set.drop([\"Survived\"], axis = 1)\n",
    "Y_test = stratified_test_set[[\"Survived\"]]\n",
    "scaler = StandardScaler()\n",
    "x_test_data = scaler.fit_transform(X_test)\n",
    "y_test_data = Y_test.to_numpy().ravel()"
   ]
  },
  {
   "cell_type": "markdown",
   "id": "fb3fc44d-ac47-4026-9ff0-6d1dc076476e",
   "metadata": {},
   "source": [
    "<h3>Evaluation</h3>"
   ]
  },
  {
   "cell_type": "code",
   "execution_count": 252,
   "id": "fad78b3d-ca6b-4aef-a9a2-9498e89b068e",
   "metadata": {},
   "outputs": [
    {
     "data": {
      "text/plain": [
       "0.8268156424581006"
      ]
     },
     "execution_count": 252,
     "metadata": {},
     "output_type": "execute_result"
    }
   ],
   "source": [
    "final_classifier.score(x_test_data, y_test_data)"
   ]
  },
  {
   "cell_type": "markdown",
   "id": "328ba139-b644-4f56-8d41-01733b38b170",
   "metadata": {},
   "source": [
    "<h2>Titanic training data</h2>"
   ]
  },
  {
   "cell_type": "markdown",
   "id": "37e6788b-92fd-4b57-9223-1166fcd4cec0",
   "metadata": {},
   "source": [
    "<h3>First: Pipeline </h3>"
   ]
  },
  {
   "cell_type": "code",
   "execution_count": 254,
   "id": "ddf796df-0d5d-4aa4-a62b-bb4de9e9c698",
   "metadata": {},
   "outputs": [],
   "source": [
    "final_data = train_data\n",
    "final_data = pipeline.fit_transform(final_data)"
   ]
  },
  {
   "cell_type": "markdown",
   "id": "46c62f45-bf58-4bc0-abd1-8005fc2800e9",
   "metadata": {},
   "source": [
    "<h3>Second: Scaling</h3>"
   ]
  },
  {
   "cell_type": "code",
   "execution_count": 258,
   "id": "e2592ca9-c1d1-45b9-93c3-0d3ab2c7ddbc",
   "metadata": {},
   "outputs": [],
   "source": [
    "X_final = final_data.drop([\"Survived\"], axis =1)\n",
    "Y_final = final_data[[\"Survived\"]]\n",
    "scaler = StandardScaler()\n",
    "x_final_data = scaler.fit_transform(X_final)\n",
    "y_final_data = Y_final.to_numpy().ravel()"
   ]
  },
  {
   "cell_type": "markdown",
   "id": "7acd5b3a-8de3-4c0c-8e0d-66c3eff00307",
   "metadata": {},
   "source": [
    "<h3>Evaluation</h3>"
   ]
  },
  {
   "cell_type": "code",
   "execution_count": 259,
   "id": "6923e654-6988-4cc0-b8f8-fe866e293c04",
   "metadata": {},
   "outputs": [],
   "source": [
    "f_classifier = RandomForestClassifier()\n",
    "parameter_grid = [{\"n_estimators\":[10,100,200,500],\n",
    "                   \"max_depth\":[None,5,10],\n",
    "                   \"min_samples_split\":[2,3,4]\n",
    "                  }]\n",
    "grid_search = GridSearchCV(final_classifier, parameter_grid, cv=3, scoring =\"accuracy\",return_train_score = True)\n",
    "grid_search.fit(x_final_data,y_final_data)\n",
    "f_classifier = grid_search.best_estimator_"
   ]
  },
  {
   "cell_type": "code",
   "execution_count": 260,
   "id": "b7d40e6e-32af-4155-a55e-1a39030200d6",
   "metadata": {},
   "outputs": [
    {
     "data": {
      "text/html": [
       "<style>#sk-container-id-2 {color: black;background-color: white;}#sk-container-id-2 pre{padding: 0;}#sk-container-id-2 div.sk-toggleable {background-color: white;}#sk-container-id-2 label.sk-toggleable__label {cursor: pointer;display: block;width: 100%;margin-bottom: 0;padding: 0.3em;box-sizing: border-box;text-align: center;}#sk-container-id-2 label.sk-toggleable__label-arrow:before {content: \"▸\";float: left;margin-right: 0.25em;color: #696969;}#sk-container-id-2 label.sk-toggleable__label-arrow:hover:before {color: black;}#sk-container-id-2 div.sk-estimator:hover label.sk-toggleable__label-arrow:before {color: black;}#sk-container-id-2 div.sk-toggleable__content {max-height: 0;max-width: 0;overflow: hidden;text-align: left;background-color: #f0f8ff;}#sk-container-id-2 div.sk-toggleable__content pre {margin: 0.2em;color: black;border-radius: 0.25em;background-color: #f0f8ff;}#sk-container-id-2 input.sk-toggleable__control:checked~div.sk-toggleable__content {max-height: 200px;max-width: 100%;overflow: auto;}#sk-container-id-2 input.sk-toggleable__control:checked~label.sk-toggleable__label-arrow:before {content: \"▾\";}#sk-container-id-2 div.sk-estimator input.sk-toggleable__control:checked~label.sk-toggleable__label {background-color: #d4ebff;}#sk-container-id-2 div.sk-label input.sk-toggleable__control:checked~label.sk-toggleable__label {background-color: #d4ebff;}#sk-container-id-2 input.sk-hidden--visually {border: 0;clip: rect(1px 1px 1px 1px);clip: rect(1px, 1px, 1px, 1px);height: 1px;margin: -1px;overflow: hidden;padding: 0;position: absolute;width: 1px;}#sk-container-id-2 div.sk-estimator {font-family: monospace;background-color: #f0f8ff;border: 1px dotted black;border-radius: 0.25em;box-sizing: border-box;margin-bottom: 0.5em;}#sk-container-id-2 div.sk-estimator:hover {background-color: #d4ebff;}#sk-container-id-2 div.sk-parallel-item::after {content: \"\";width: 100%;border-bottom: 1px solid gray;flex-grow: 1;}#sk-container-id-2 div.sk-label:hover label.sk-toggleable__label {background-color: #d4ebff;}#sk-container-id-2 div.sk-serial::before {content: \"\";position: absolute;border-left: 1px solid gray;box-sizing: border-box;top: 0;bottom: 0;left: 50%;z-index: 0;}#sk-container-id-2 div.sk-serial {display: flex;flex-direction: column;align-items: center;background-color: white;padding-right: 0.2em;padding-left: 0.2em;position: relative;}#sk-container-id-2 div.sk-item {position: relative;z-index: 1;}#sk-container-id-2 div.sk-parallel {display: flex;align-items: stretch;justify-content: center;background-color: white;position: relative;}#sk-container-id-2 div.sk-item::before, #sk-container-id-2 div.sk-parallel-item::before {content: \"\";position: absolute;border-left: 1px solid gray;box-sizing: border-box;top: 0;bottom: 0;left: 50%;z-index: -1;}#sk-container-id-2 div.sk-parallel-item {display: flex;flex-direction: column;z-index: 1;position: relative;background-color: white;}#sk-container-id-2 div.sk-parallel-item:first-child::after {align-self: flex-end;width: 50%;}#sk-container-id-2 div.sk-parallel-item:last-child::after {align-self: flex-start;width: 50%;}#sk-container-id-2 div.sk-parallel-item:only-child::after {width: 0;}#sk-container-id-2 div.sk-dashed-wrapped {border: 1px dashed gray;margin: 0 0.4em 0.5em 0.4em;box-sizing: border-box;padding-bottom: 0.4em;background-color: white;}#sk-container-id-2 div.sk-label label {font-family: monospace;font-weight: bold;display: inline-block;line-height: 1.2em;}#sk-container-id-2 div.sk-label-container {text-align: center;}#sk-container-id-2 div.sk-container {/* jupyter's `normalize.less` sets `[hidden] { display: none; }` but bootstrap.min.css set `[hidden] { display: none !important; }` so we also need the `!important` here to be able to override the default hidden behavior on the sphinx rendered scikit-learn.org. See: https://github.com/scikit-learn/scikit-learn/issues/21755 */display: inline-block !important;position: relative;}#sk-container-id-2 div.sk-text-repr-fallback {display: none;}</style><div id=\"sk-container-id-2\" class=\"sk-top-container\"><div class=\"sk-text-repr-fallback\"><pre>RandomForestClassifier(max_depth=5, min_samples_split=3, n_estimators=200)</pre><b>In a Jupyter environment, please rerun this cell to show the HTML representation or trust the notebook. <br />On GitHub, the HTML representation is unable to render, please try loading this page with nbviewer.org.</b></div><div class=\"sk-container\" hidden><div class=\"sk-item\"><div class=\"sk-estimator sk-toggleable\"><input class=\"sk-toggleable__control sk-hidden--visually\" id=\"sk-estimator-id-2\" type=\"checkbox\" checked><label for=\"sk-estimator-id-2\" class=\"sk-toggleable__label sk-toggleable__label-arrow\">RandomForestClassifier</label><div class=\"sk-toggleable__content\"><pre>RandomForestClassifier(max_depth=5, min_samples_split=3, n_estimators=200)</pre></div></div></div></div></div>"
      ],
      "text/plain": [
       "RandomForestClassifier(max_depth=5, min_samples_split=3, n_estimators=200)"
      ]
     },
     "execution_count": 260,
     "metadata": {},
     "output_type": "execute_result"
    }
   ],
   "source": [
    "f_classifier"
   ]
  },
  {
   "cell_type": "markdown",
   "id": "46518a60-c8b3-4de0-86ff-15b4ac110f8f",
   "metadata": {},
   "source": [
    "<h2>Titanic testing data</h2>"
   ]
  },
  {
   "cell_type": "code",
   "execution_count": 266,
   "id": "c4365c28-a28d-4c5a-ba52-cf2a10740583",
   "metadata": {},
   "outputs": [],
   "source": [
    "titanic_test_data = pd.read_csv(\"Data/test.csv\")"
   ]
  },
  {
   "cell_type": "markdown",
   "id": "ebb009a7-0c33-4520-a469-2139d41bc734",
   "metadata": {},
   "source": [
    "<h3>First: Pipeline </h3>"
   ]
  },
  {
   "cell_type": "code",
   "execution_count": 267,
   "id": "daf6ad5f-1374-4868-bed2-8523a9207022",
   "metadata": {},
   "outputs": [],
   "source": [
    "titanic_test_data = pipeline.fit_transform(titanic_test_data)"
   ]
  },
  {
   "cell_type": "markdown",
   "id": "8916722f-4416-47c6-84f1-e3a5aacff934",
   "metadata": {},
   "source": [
    "<h3>Second: Check Null values </h3>"
   ]
  },
  {
   "cell_type": "code",
   "execution_count": 274,
   "id": "8ee6df74-3b4f-4df1-b61b-0604c21652f4",
   "metadata": {},
   "outputs": [],
   "source": [
    "X_test_data = titanic_test_data\n",
    "X_test_data = X_test_data.ffill()"
   ]
  },
  {
   "cell_type": "markdown",
   "id": "9a76f98e-2e08-46fb-b578-4921ca886fe6",
   "metadata": {},
   "source": [
    "<h3>Third: Scaling</h3>"
   ]
  },
  {
   "cell_type": "code",
   "execution_count": 275,
   "id": "05ce186c-f4cb-4911-8dab-3c0a4ad2726b",
   "metadata": {},
   "outputs": [],
   "source": [
    "scaler = StandardScaler()\n",
    "x_test_data = scaler.fit_transform(X_test_data)"
   ]
  },
  {
   "cell_type": "markdown",
   "id": "b3d29b98-8b05-439d-8170-8c5665833fd0",
   "metadata": {},
   "source": [
    "<h1>\n",
    "    Results\n",
    "</h1>"
   ]
  },
  {
   "cell_type": "code",
   "execution_count": 277,
   "id": "3bb75380-4fbb-4242-9df8-b2240e2705fd",
   "metadata": {},
   "outputs": [],
   "source": [
    "predictions = f_classifier.predict(x_test_data)\n",
    "results_df = pd.DataFrame(titanic_test_data[\"PassengerId\"])\n",
    "results_df[\"Survived\"] = predictions"
   ]
  },
  {
   "cell_type": "markdown",
   "id": "ae1fb0d8-46f7-46c4-95e8-cdb3088dcca4",
   "metadata": {},
   "source": [
    "<h3>Creating the csv file</h3>"
   ]
  },
  {
   "cell_type": "code",
   "execution_count": 279,
   "id": "e148d147-09c9-4b81-8f55-b3ba6d3c6110",
   "metadata": {},
   "outputs": [],
   "source": [
    "results_df.to_csv(\"Data/results.csv\", index = False)"
   ]
  }
 ],
 "metadata": {
  "kernelspec": {
   "display_name": "Python 3 (ipykernel)",
   "language": "python",
   "name": "python3"
  },
  "language_info": {
   "codemirror_mode": {
    "name": "ipython",
    "version": 3
   },
   "file_extension": ".py",
   "mimetype": "text/x-python",
   "name": "python",
   "nbconvert_exporter": "python",
   "pygments_lexer": "ipython3",
   "version": "3.11.7"
  }
 },
 "nbformat": 4,
 "nbformat_minor": 5
}
